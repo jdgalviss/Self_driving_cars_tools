{
 "cells": [
  {
   "cell_type": "code",
   "execution_count": 1,
   "metadata": {},
   "outputs": [],
   "source": [
    "import pickle\n",
    "import numpy as np\n",
    "import tensorflow as tf\n",
    "\n",
    "# Load pickled data\n",
    "with open('small_train_traffic.p', mode='rb') as f:\n",
    "    data = pickle.load(f)"
   ]
  },
  {
   "cell_type": "code",
   "execution_count": 2,
   "metadata": {},
   "outputs": [],
   "source": [
    "# Split the data\n",
    "X_train, y_train = data['features'], data['labels']"
   ]
  },
  {
   "cell_type": "code",
   "execution_count": 3,
   "metadata": {},
   "outputs": [
    {
     "name": "stderr",
     "output_type": "stream",
     "text": [
      "Using TensorFlow backend.\n"
     ]
    }
   ],
   "source": [
    "# Setup Keras\n",
    "from keras.models import Sequential\n",
    "from keras.layers.core import Dense, Activation, Flatten, Dropout\n",
    "from keras.layers.convolutional import Conv2D\n",
    "from keras.layers.pooling import MaxPooling2D"
   ]
  },
  {
   "cell_type": "code",
   "execution_count": 13,
   "metadata": {},
   "outputs": [],
   "source": [
    "# Build Convolutional Pooling Neural Network with Dropout in Keras Here\n",
    "model = Sequential()\n",
    "model.add(Conv2D(64, (3, 3), input_shape=(32, 32, 3)))\n",
    "model.add(MaxPooling2D((2, 2)))\n",
    "model.add(Dropout(0.5))\n",
    "model.add(Activation('relu'))\n",
    "#model.add(Conv2D(16, (3, 3)))\n",
    "#model.add(MaxPooling2D((2, 2)))\n",
    "#model.add(Dropout(0.5))\n",
    "#model.add(Activation('relu'))\n",
    "model.add(Flatten())\n",
    "model.add(Dense(128))\n",
    "model.add(Activation('relu'))\n",
    "model.add(Dense(5))\n",
    "model.add(Activation('softmax'))"
   ]
  },
  {
   "cell_type": "code",
   "execution_count": 14,
   "metadata": {},
   "outputs": [],
   "source": [
    "# preprocess data\n",
    "X_normalized = np.array(X_train / 255.0 - 0.5 )\n",
    "\n",
    "from sklearn.preprocessing import LabelBinarizer\n",
    "label_binarizer = LabelBinarizer()\n",
    "y_one_hot = label_binarizer.fit_transform(y_train)"
   ]
  },
  {
   "cell_type": "code",
   "execution_count": 15,
   "metadata": {},
   "outputs": [
    {
     "name": "stdout",
     "output_type": "stream",
     "text": [
      "Train on 80 samples, validate on 20 samples\n",
      "Epoch 1/30\n",
      "80/80 [==============================] - 1s 9ms/step - loss: 1.3224 - acc: 0.3250 - val_loss: 0.8082 - val_acc: 0.6500\n",
      "Epoch 2/30\n",
      "80/80 [==============================] - 0s 5ms/step - loss: 0.8149 - acc: 0.6125 - val_loss: 0.5299 - val_acc: 0.8500\n",
      "Epoch 3/30\n",
      "80/80 [==============================] - 0s 5ms/step - loss: 0.5957 - acc: 0.8000 - val_loss: 0.3280 - val_acc: 0.8500\n",
      "Epoch 4/30\n",
      "80/80 [==============================] - 0s 5ms/step - loss: 0.4488 - acc: 0.8250 - val_loss: 0.3052 - val_acc: 0.8500\n",
      "Epoch 5/30\n",
      "80/80 [==============================] - 0s 5ms/step - loss: 0.3720 - acc: 0.8375 - val_loss: 0.2788 - val_acc: 0.8500\n",
      "Epoch 6/30\n",
      "80/80 [==============================] - 0s 5ms/step - loss: 0.3610 - acc: 0.8125 - val_loss: 0.2554 - val_acc: 0.8500\n",
      "Epoch 7/30\n",
      "80/80 [==============================] - 0s 5ms/step - loss: 0.3733 - acc: 0.8000 - val_loss: 0.1859 - val_acc: 0.8500\n",
      "Epoch 8/30\n",
      "80/80 [==============================] - 0s 5ms/step - loss: 0.2556 - acc: 0.8750 - val_loss: 0.1855 - val_acc: 0.8500\n",
      "Epoch 9/30\n",
      "80/80 [==============================] - 0s 5ms/step - loss: 0.2717 - acc: 0.8375 - val_loss: 0.1982 - val_acc: 0.8500\n",
      "Epoch 10/30\n",
      "80/80 [==============================] - 0s 5ms/step - loss: 0.2539 - acc: 0.8125 - val_loss: 0.1488 - val_acc: 1.0000\n",
      "Epoch 11/30\n",
      "80/80 [==============================] - 0s 5ms/step - loss: 0.2274 - acc: 0.9125 - val_loss: 0.1346 - val_acc: 1.0000\n",
      "Epoch 12/30\n",
      "80/80 [==============================] - 0s 5ms/step - loss: 0.1983 - acc: 0.9250 - val_loss: 0.1273 - val_acc: 1.0000\n",
      "Epoch 13/30\n",
      "80/80 [==============================] - 0s 5ms/step - loss: 0.1918 - acc: 0.9625 - val_loss: 0.1186 - val_acc: 1.0000\n",
      "Epoch 14/30\n",
      "80/80 [==============================] - 0s 5ms/step - loss: 0.1706 - acc: 0.9500 - val_loss: 0.1092 - val_acc: 1.0000\n",
      "Epoch 15/30\n",
      "80/80 [==============================] - 0s 5ms/step - loss: 0.1586 - acc: 1.0000 - val_loss: 0.1030 - val_acc: 1.0000\n",
      "Epoch 16/30\n",
      "80/80 [==============================] - 0s 5ms/step - loss: 0.1653 - acc: 0.9625 - val_loss: 0.0960 - val_acc: 1.0000\n",
      "Epoch 17/30\n",
      "80/80 [==============================] - 0s 6ms/step - loss: 0.2063 - acc: 0.8625 - val_loss: 0.0857 - val_acc: 1.0000\n",
      "Epoch 18/30\n",
      "80/80 [==============================] - 0s 6ms/step - loss: 0.1855 - acc: 0.9125 - val_loss: 0.0813 - val_acc: 1.0000\n",
      "Epoch 19/30\n",
      "80/80 [==============================] - 0s 6ms/step - loss: 0.1310 - acc: 0.9625 - val_loss: 0.0798 - val_acc: 1.0000\n",
      "Epoch 20/30\n",
      "80/80 [==============================] - 0s 6ms/step - loss: 0.1079 - acc: 1.0000 - val_loss: 0.0626 - val_acc: 1.0000\n",
      "Epoch 21/30\n",
      "80/80 [==============================] - 0s 6ms/step - loss: 0.1204 - acc: 0.9875 - val_loss: 0.0637 - val_acc: 1.0000\n",
      "Epoch 22/30\n",
      "80/80 [==============================] - 0s 6ms/step - loss: 0.0944 - acc: 0.9750 - val_loss: 0.0502 - val_acc: 1.0000\n",
      "Epoch 23/30\n",
      "80/80 [==============================] - 0s 6ms/step - loss: 0.0949 - acc: 1.0000 - val_loss: 0.0503 - val_acc: 1.0000\n",
      "Epoch 24/30\n",
      "80/80 [==============================] - 0s 6ms/step - loss: 0.0879 - acc: 1.0000 - val_loss: 0.0383 - val_acc: 1.0000\n",
      "Epoch 25/30\n",
      "80/80 [==============================] - 0s 6ms/step - loss: 0.0682 - acc: 1.0000 - val_loss: 0.0418 - val_acc: 1.0000\n",
      "Epoch 26/30\n",
      "80/80 [==============================] - 0s 6ms/step - loss: 0.0826 - acc: 0.9750 - val_loss: 0.0533 - val_acc: 1.0000\n",
      "Epoch 27/30\n",
      "80/80 [==============================] - 0s 6ms/step - loss: 0.0947 - acc: 0.9750 - val_loss: 0.0423 - val_acc: 1.0000\n",
      "Epoch 28/30\n",
      "80/80 [==============================] - 0s 6ms/step - loss: 0.0790 - acc: 0.9875 - val_loss: 0.0263 - val_acc: 1.0000\n",
      "Epoch 29/30\n",
      "80/80 [==============================] - 0s 6ms/step - loss: 0.0616 - acc: 1.0000 - val_loss: 0.0221 - val_acc: 1.0000\n",
      "Epoch 30/30\n",
      "80/80 [==============================] - 0s 6ms/step - loss: 0.0370 - acc: 1.0000 - val_loss: 0.0194 - val_acc: 1.0000\n"
     ]
    }
   ],
   "source": [
    "# compile and fit the model\n",
    "model.compile('adam', 'categorical_crossentropy', ['accuracy'])\n",
    "history = model.fit(X_normalized, y_one_hot, epochs=30, validation_split=0.2)"
   ]
  },
  {
   "cell_type": "code",
   "execution_count": 16,
   "metadata": {},
   "outputs": [
    {
     "name": "stdout",
     "output_type": "stream",
     "text": [
      "Testing\n",
      "20/20 [==============================] - 0s 1ms/step\n",
      "loss: 0.03993498533964157\n",
      "acc: 1.0\n"
     ]
    }
   ],
   "source": [
    "# evaluate model against the test data\n",
    "with open('small_test_traffic.p', 'rb') as f:\n",
    "    data_test = pickle.load(f)\n",
    "\n",
    "X_test = data_test['features']\n",
    "y_test = data_test['labels']\n",
    "\n",
    "# preprocess data\n",
    "X_normalized_test = np.array(X_test / 255.0 - 0.5 )\n",
    "y_one_hot_test = label_binarizer.fit_transform(y_test)\n",
    "\n",
    "print(\"Testing\")\n",
    "\n",
    "metrics = model.evaluate(X_normalized_test, y_one_hot_test)\n",
    "for metric_i in range(len(model.metrics_names)):\n",
    "    metric_name = model.metrics_names[metric_i]\n",
    "    metric_value = metrics[metric_i]\n",
    "    print('{}: {}'.format(metric_name, metric_value))    "
   ]
  },
  {
   "cell_type": "code",
   "execution_count": 17,
   "metadata": {},
   "outputs": [
    {
     "name": "stdout",
     "output_type": "stream",
     "text": [
      "Nice, accuracy was 1.0\n",
      "Good Job, accuracy was above 90%\n",
      "\n"
     ]
    }
   ],
   "source": [
    "### DON'T MODIFY ANYTHING BELOW ###\n",
    "### Be sure to run all cells above before running this cell ###\n",
    "import grader\n",
    "\n",
    "try:\n",
    "    grader.run_grader(metrics)\n",
    "except Exception as err:\n",
    "    print(str(err))"
   ]
  },
  {
   "cell_type": "code",
   "execution_count": null,
   "metadata": {},
   "outputs": [],
   "source": []
  }
 ],
 "metadata": {
  "kernelspec": {
   "display_name": "Python 3",
   "language": "python",
   "name": "python3"
  },
  "language_info": {
   "codemirror_mode": {
    "name": "ipython",
    "version": 3
   },
   "file_extension": ".py",
   "mimetype": "text/x-python",
   "name": "python",
   "nbconvert_exporter": "python",
   "pygments_lexer": "ipython3",
   "version": "3.6.3"
  }
 },
 "nbformat": 4,
 "nbformat_minor": 2
}
